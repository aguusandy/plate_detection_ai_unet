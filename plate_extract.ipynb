{
 "cells": [
  {
   "cell_type": "code",
   "execution_count": null,
   "id": "d07bb9c6",
   "metadata": {},
   "outputs": [],
   "source": [
    "\"\"\"\n",
    "    - https://huggingface.co/datasets/sonnetechnology/license-plate-text-recognition-full\n",
    "    - https://huggingface.co/microsoft/Florence-2-large\n",
    "    - https://huggingface.co/qualcomm/EasyOCR\n",
    "\"\"\""
   ]
  },
  {
   "cell_type": "code",
   "execution_count": 2,
   "id": "c4e4f0a7",
   "metadata": {},
   "outputs": [],
   "source": [
    "import torch\n",
    "import numpy as np\n",
    "import matplotlib.pyplot as plt\n",
    "import os\n",
    "from torch.utils.data import DataLoader, Dataset, random_split\n",
    "from PIL import Image\n",
    "from torchvision import transforms as T\n",
    "from torch import nn\n",
    "from torch.nn import functional as F\n",
    "from torchvision.ops import sigmoid_focal_loss"
   ]
  },
  {
   "cell_type": "code",
   "execution_count": 4,
   "id": "25161706",
   "metadata": {},
   "outputs": [
    {
     "name": "stdout",
     "output_type": "stream",
     "text": [
      "HIP_VISIBLE_DEVICES (from os.environ): 1\n",
      "True\n",
      "1\n",
      "Device 0: AMD Radeon RX 7800 XT\n",
      "\n",
      "Using explicit device: cuda:1\n"
     ]
    }
   ],
   "source": [
    "import os\n",
    "os.environ[\"HIP_VISIBLE_DEVICES\"] = \"1\" # Keep this line for good measure, it might help with some internal ROCm ops.\n",
    "\n",
    "import torch\n",
    "\n",
    "print(f\"HIP_VISIBLE_DEVICES (from os.environ): {os.environ.get('HIP_VISIBLE_DEVICES')}\")\n",
    "print(torch.cuda.is_available())\n",
    "print(torch.cuda.device_count())\n",
    "\n",
    "if torch.cuda.is_available():\n",
    "    for i in range(torch.cuda.device_count()):\n",
    "        print(f\"Device {i}: {torch.cuda.get_device_name(i)}\")\n",
    "\n",
    "    # THIS IS THE CRUCIAL CHANGE: Explicitly select device 1\n",
    "    my_device = torch.device(\"cuda:1\")\n",
    "    print(f\"\\nUsing explicit device: {my_device}\")\n",
    "\n",
    "else:\n",
    "    my_device = torch.device(\"cpu\")\n",
    "    print(\"\\nCUDA/ROCm not available, falling back to CPU.\")"
   ]
  },
  {
   "cell_type": "code",
   "execution_count": null,
   "id": "c149421e",
   "metadata": {},
   "outputs": [],
   "source": [
    "#  =================================== Dataset Images ==================================="
   ]
  },
  {
   "cell_type": "code",
   "execution_count": 5,
   "id": "4fa47016",
   "metadata": {},
   "outputs": [
    {
     "name": "stderr",
     "output_type": "stream",
     "text": [
      "c:\\Users\\pc\\Desktop\\mis\\unet_patent_detector\\venv_unet\\Lib\\site-packages\\tqdm\\auto.py:21: TqdmWarning: IProgress not found. Please update jupyter and ipywidgets. See https://ipywidgets.readthedocs.io/en/stable/user_install.html\n",
      "  from .autonotebook import tqdm as notebook_tqdm\n",
      "c:\\Users\\pc\\Desktop\\mis\\unet_patent_detector\\venv_unet\\Lib\\site-packages\\huggingface_hub\\file_download.py:143: UserWarning: `huggingface_hub` cache-system uses symlinks by default to efficiently store duplicated files but your machine does not support them in C:\\Users\\pc\\.cache\\huggingface\\hub\\datasets--sonnetechnology--license-plate-text-recognition-full. Caching files will still work but in a degraded version that might require more space on your disk. This warning can be disabled by setting the `HF_HUB_DISABLE_SYMLINKS_WARNING` environment variable. For more details, see https://huggingface.co/docs/huggingface_hub/how-to-cache#limitations.\n",
      "To support symlinks on Windows, you either need to activate Developer Mode or to run Python as an administrator. In order to activate developer mode, see this article: https://docs.microsoft.com/en-us/windows/apps/get-started/enable-your-device-for-development\n",
      "  warnings.warn(message)\n",
      "Generating train split: 100%|██████████| 6176/6176 [00:00<00:00, 33683.67 examples/s]\n",
      "Generating validation split: 100%|██████████| 1765/1765 [00:00<00:00, 45974.75 examples/s]\n",
      "Generating test split: 100%|██████████| 882/882 [00:00<00:00, 48359.75 examples/s]\n"
     ]
    }
   ],
   "source": [
    "# !pip install datasets\n",
    "import datasets\n",
    "\n",
    "ds = datasets.load_dataset(\"sonnetechnology/license-plate-text-recognition-full\")"
   ]
  },
  {
   "cell_type": "code",
   "execution_count": null,
   "id": "c60ad203",
   "metadata": {},
   "outputs": [],
   "source": [
    "example = ds['train'][0]"
   ]
  },
  {
   "cell_type": "code",
   "execution_count": null,
   "id": "03ad9851",
   "metadata": {},
   "outputs": [],
   "source": [
    "#  =================================== Florence 2 ==================================="
   ]
  },
  {
   "cell_type": "code",
   "execution_count": null,
   "id": "3838f8ca",
   "metadata": {},
   "outputs": [],
   "source": [
    "#  =================================== Easy OCR ==================================="
   ]
  },
  {
   "cell_type": "code",
   "execution_count": null,
   "id": "684d7c69",
   "metadata": {},
   "outputs": [],
   "source": [
    "# pip install \"qai-hub-models[easyocr]\"\n"
   ]
  }
 ],
 "metadata": {
  "kernelspec": {
   "display_name": "Python (venv_unet)",
   "language": "python",
   "name": "venv_unet"
  },
  "language_info": {
   "codemirror_mode": {
    "name": "ipython",
    "version": 3
   },
   "file_extension": ".py",
   "mimetype": "text/x-python",
   "name": "python",
   "nbconvert_exporter": "python",
   "pygments_lexer": "ipython3",
   "version": "3.11.9"
  }
 },
 "nbformat": 4,
 "nbformat_minor": 5
}
